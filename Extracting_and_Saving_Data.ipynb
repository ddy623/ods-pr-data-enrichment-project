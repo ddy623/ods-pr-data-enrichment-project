{
  "nbformat": 4,
  "nbformat_minor": 0,
  "metadata": {
    "colab": {
      "provenance": [],
      "authorship_tag": "ABX9TyNMz6otmUXcbJqGXcgdibf9",
      "include_colab_link": true
    },
    "kernelspec": {
      "name": "python3",
      "display_name": "Python 3"
    },
    "language_info": {
      "name": "python"
    }
  },
  "cells": [
    {
      "cell_type": "markdown",
      "metadata": {
        "id": "view-in-github",
        "colab_type": "text"
      },
      "source": [
        "<a href=\"https://colab.research.google.com/github/ddy623/ods-pr-data-enrichment-project/blob/main/Extracting_and_Saving_Data.ipynb\" target=\"_parent\"><img src=\"https://colab.research.google.com/assets/colab-badge.svg\" alt=\"Open In Colab\"/></a>"
      ]
    },
    {
      "cell_type": "markdown",
      "source": [
        "Part 1-Extracting and Saving Data from Yelp API"
      ],
      "metadata": {
        "id": "ElXq0h8ZfQLm"
      }
    },
    {
      "cell_type": "code",
      "execution_count": 42,
      "metadata": {
        "id": "vq8pCDol7QZ5"
      },
      "outputs": [],
      "source": [
        "# Standard Imports\n",
        "import numpy as np\n",
        "import pandas as pd\n",
        "import matplotlib.pyplot as plt\n",
        "import seaborn as sns\n",
        "# Additional Imports\n",
        "import os, json, math, time\n",
        "from yelpapi import YelpAPI\n",
        "from tqdm.notebook import tqdm_notebook\n"
      ]
    },
    {
      "cell_type": "code",
      "source": [
        "# Install tmdbsimple (only need to run once)\n",
        "!pip install tqdm"
      ],
      "metadata": {
        "colab": {
          "base_uri": "https://localhost:8080/"
        },
        "id": "Gr19KedxZuKj",
        "outputId": "62009d91-ac6c-4ed9-e8e6-130ff0aa852d"
      },
      "execution_count": 43,
      "outputs": [
        {
          "output_type": "stream",
          "name": "stdout",
          "text": [
            "Requirement already satisfied: tqdm in /usr/local/lib/python3.10/dist-packages (4.66.1)\n"
          ]
        }
      ]
    },
    {
      "cell_type": "code",
      "source": [
        "#Install\n",
        "!pip install yelpapi"
      ],
      "metadata": {
        "colab": {
          "base_uri": "https://localhost:8080/"
        },
        "id": "Vct2Kik_bQwQ",
        "outputId": "2fc40a34-1cfc-4964-ff67-ea92ecd554cc"
      },
      "execution_count": 44,
      "outputs": [
        {
          "output_type": "stream",
          "name": "stdout",
          "text": [
            "Requirement already satisfied: yelpapi in /usr/local/lib/python3.10/dist-packages (2.5.1)\n",
            "Requirement already satisfied: requests in /usr/local/lib/python3.10/dist-packages (from yelpapi) (2.31.0)\n",
            "Requirement already satisfied: charset-normalizer<4,>=2 in /usr/local/lib/python3.10/dist-packages (from requests->yelpapi) (3.3.2)\n",
            "Requirement already satisfied: idna<4,>=2.5 in /usr/local/lib/python3.10/dist-packages (from requests->yelpapi) (3.6)\n",
            "Requirement already satisfied: urllib3<3,>=1.21.1 in /usr/local/lib/python3.10/dist-packages (from requests->yelpapi) (2.0.7)\n",
            "Requirement already satisfied: certifi>=2017.4.17 in /usr/local/lib/python3.10/dist-packages (from requests->yelpapi) (2023.11.17)\n"
          ]
        }
      ]
    },
    {
      "cell_type": "code",
      "source": [
        "# Load API Credentials\n",
        "with open('/Users/deidrehunt/.secret/yelp_api.json', 'r') as f:\n",
        "    login = json.load(f)\n",
        "# Instantiate YelpAPI Variable\n",
        "yelp_api = YelpAPI(login['api-key'], timeout_s=5.0)\n"
      ],
      "metadata": {
        "colab": {
          "base_uri": "https://localhost:8080/",
          "height": 242
        },
        "id": "l5vgX1WLZyjM",
        "outputId": "de90d2fa-a402-417e-c8ec-2ec6f1f145bc"
      },
      "execution_count": 45,
      "outputs": [
        {
          "output_type": "error",
          "ename": "FileNotFoundError",
          "evalue": "[Errno 2] No such file or directory: '/Users/deidrehunt/.secret/yelp_api.json'",
          "traceback": [
            "\u001b[0;31m---------------------------------------------------------------------------\u001b[0m",
            "\u001b[0;31mFileNotFoundError\u001b[0m                         Traceback (most recent call last)",
            "\u001b[0;32m<ipython-input-45-e22ac30a5966>\u001b[0m in \u001b[0;36m<cell line: 2>\u001b[0;34m()\u001b[0m\n\u001b[1;32m      1\u001b[0m \u001b[0;31m# Load API Credentials\u001b[0m\u001b[0;34m\u001b[0m\u001b[0;34m\u001b[0m\u001b[0m\n\u001b[0;32m----> 2\u001b[0;31m \u001b[0;32mwith\u001b[0m \u001b[0mopen\u001b[0m\u001b[0;34m(\u001b[0m\u001b[0;34m'/Users/deidrehunt/.secret/yelp_api.json'\u001b[0m\u001b[0;34m,\u001b[0m \u001b[0;34m'r'\u001b[0m\u001b[0;34m)\u001b[0m \u001b[0;32mas\u001b[0m \u001b[0mf\u001b[0m\u001b[0;34m:\u001b[0m\u001b[0;34m\u001b[0m\u001b[0;34m\u001b[0m\u001b[0m\n\u001b[0m\u001b[1;32m      3\u001b[0m     \u001b[0mlogin\u001b[0m \u001b[0;34m=\u001b[0m \u001b[0mjson\u001b[0m\u001b[0;34m.\u001b[0m\u001b[0mload\u001b[0m\u001b[0;34m(\u001b[0m\u001b[0mf\u001b[0m\u001b[0;34m)\u001b[0m\u001b[0;34m\u001b[0m\u001b[0;34m\u001b[0m\u001b[0m\n\u001b[1;32m      4\u001b[0m \u001b[0;31m# Instantiate YelpAPI Variable\u001b[0m\u001b[0;34m\u001b[0m\u001b[0;34m\u001b[0m\u001b[0m\n\u001b[1;32m      5\u001b[0m \u001b[0myelp_api\u001b[0m \u001b[0;34m=\u001b[0m \u001b[0mYelpAPI\u001b[0m\u001b[0;34m(\u001b[0m\u001b[0mlogin\u001b[0m\u001b[0;34m[\u001b[0m\u001b[0;34m'api-key'\u001b[0m\u001b[0;34m]\u001b[0m\u001b[0;34m,\u001b[0m \u001b[0mtimeout_s\u001b[0m\u001b[0;34m=\u001b[0m\u001b[0;36m5.0\u001b[0m\u001b[0;34m)\u001b[0m\u001b[0;34m\u001b[0m\u001b[0;34m\u001b[0m\u001b[0m\n",
            "\u001b[0;31mFileNotFoundError\u001b[0m: [Errno 2] No such file or directory: '/Users/deidrehunt/.secret/yelp_api.json'"
          ]
        }
      ]
    },
    {
      "cell_type": "code",
      "source": [
        "login.keys()"
      ],
      "metadata": {
        "id": "z48WKBdddW39"
      },
      "execution_count": null,
      "outputs": []
    },
    {
      "cell_type": "code",
      "source": [
        "dict_keys (['Client-ID', 'API Key'])"
      ],
      "metadata": {
        "id": "3pt3LYfIdek3"
      },
      "execution_count": null,
      "outputs": []
    },
    {
      "cell_type": "code",
      "source": [
        "#login.items()\n",
        "#login['API Key']\n",
        "\n"
      ],
      "metadata": {
        "id": "ZFH_G_eqd2MR"
      },
      "execution_count": null,
      "outputs": []
    },
    {
      "cell_type": "code",
      "source": [
        "#Instantiate YelpAPI Variable\n",
        "yelp = YelpAPI (login['API Key'], timeout_s = 5.0)"
      ],
      "metadata": {
        "id": "XeOGIMJjeGKC"
      },
      "execution_count": null,
      "outputs": []
    },
    {
      "cell_type": "markdown",
      "source": [
        "Define Search Terms and File Paths"
      ],
      "metadata": {
        "id": "vNQx5IdVez64"
      }
    },
    {
      "cell_type": "code",
      "source": [
        "# set our API call parameters\n",
        "LOCATION = 'DC'\n",
        "TERM = 'Pizza'"
      ],
      "metadata": {
        "id": "mBaHabacaD21"
      },
      "execution_count": null,
      "outputs": []
    },
    {
      "cell_type": "code",
      "source": [
        "# Specifying JSON_FILE filename (can include a folder)\n",
        "# include the search terms in the filename\n",
        "JSON_FILE = \"Data/results_in_progress_DC_pizza.json\"\n",
        "JSON_FILE\n"
      ],
      "metadata": {
        "id": "yEO9D9p1aLE_"
      },
      "execution_count": null,
      "outputs": []
    },
    {
      "cell_type": "code",
      "source": [
        "## Check if JSON_FILE exists\n",
        "file_exists = os.path.isfile(JSON_FILE)\n",
        "## If it does not exist:\n",
        "if file_exists == False:\n",
        "\n",
        "    ## CREATE ANY NEEDED FOLDERS\n",
        "    # Get the Folder Name only\n",
        "    folder = os.path.dirname(JSON_FILE)\n",
        "    ## If JSON_FILE included a folder:\n",
        "    if len(folder)>0:\n",
        "        # create the folder\n",
        "        os.makedirs(folder,exist_ok=True)\n",
        "\n",
        "\n",
        "    ## INFORM USER AND SAVE EMPTY LIST\n",
        "    print(f'[i] {JSON_FILE} not found. Saving empty list to file.')\n",
        "\n",
        "\n",
        "    # save an empty list\n",
        "    with open(JSON_FILE,'w') as f:\n",
        "        json.dump([],f)\n",
        "# If it exists, inform user\n",
        "else:\n",
        "    print(f\"[i] {JSON_FILE} already exists.\")"
      ],
      "metadata": {
        "colab": {
          "base_uri": "https://localhost:8080/"
        },
        "id": "sd20v6bDaZzZ",
        "outputId": "b494fd7d-8ba0-4992-857c-aabc741cdbcc"
      },
      "execution_count": 46,
      "outputs": [
        {
          "output_type": "stream",
          "name": "stdout",
          "text": [
            "[i] Data/results_in_progress_DC_pizza.json already exists.\n"
          ]
        }
      ]
    },
    {
      "cell_type": "code",
      "source": [
        "## Load previous results and use len of results for offset\n",
        "with open(JSON_FILE,'r') as f:\n",
        "    previous_results = json.load(f)\n",
        "\n",
        "## set offset based on previous results\n",
        "n_results = len(previous_results)\n",
        "print(f'- {n_results} previous results found.')\n"
      ],
      "metadata": {
        "colab": {
          "base_uri": "https://localhost:8080/"
        },
        "id": "ZPhtu5r_adAJ",
        "outputId": "1e7a795d-9558-4ef5-cc42-07017d311c1c"
      },
      "execution_count": 47,
      "outputs": [
        {
          "output_type": "stream",
          "name": "stdout",
          "text": [
            "- 0 previous results found.\n"
          ]
        }
      ]
    },
    {
      "cell_type": "code",
      "source": [
        "# use our yelp_api variable's search_query method to perform our API call\n",
        "results = yelp_api.search_query(location=LOCATION,\n",
        "                                term=TERM,\n",
        "                               offset=n_results)\n",
        "results.keys()\n"
      ],
      "metadata": {
        "colab": {
          "base_uri": "https://localhost:8080/",
          "height": 242
        },
        "id": "dnl2ljIragZ5",
        "outputId": "223cc71a-4b1d-4109-a68c-8765a4cc322d"
      },
      "execution_count": 48,
      "outputs": [
        {
          "output_type": "error",
          "ename": "NameError",
          "evalue": "name 'yelp_api' is not defined",
          "traceback": [
            "\u001b[0;31m---------------------------------------------------------------------------\u001b[0m",
            "\u001b[0;31mNameError\u001b[0m                                 Traceback (most recent call last)",
            "\u001b[0;32m<ipython-input-48-34706cc4951a>\u001b[0m in \u001b[0;36m<cell line: 2>\u001b[0;34m()\u001b[0m\n\u001b[1;32m      1\u001b[0m \u001b[0;31m# use our yelp_api variable's search_query method to perform our API call\u001b[0m\u001b[0;34m\u001b[0m\u001b[0;34m\u001b[0m\u001b[0m\n\u001b[0;32m----> 2\u001b[0;31m results = yelp_api.search_query(location=LOCATION,\n\u001b[0m\u001b[1;32m      3\u001b[0m                                 \u001b[0mterm\u001b[0m\u001b[0;34m=\u001b[0m\u001b[0mTERM\u001b[0m\u001b[0;34m,\u001b[0m\u001b[0;34m\u001b[0m\u001b[0;34m\u001b[0m\u001b[0m\n\u001b[1;32m      4\u001b[0m                                offset=n_results)\n\u001b[1;32m      5\u001b[0m \u001b[0mresults\u001b[0m\u001b[0;34m.\u001b[0m\u001b[0mkeys\u001b[0m\u001b[0;34m(\u001b[0m\u001b[0;34m)\u001b[0m\u001b[0;34m\u001b[0m\u001b[0;34m\u001b[0m\u001b[0m\n",
            "\u001b[0;31mNameError\u001b[0m: name 'yelp_api' is not defined"
          ]
        }
      ]
    },
    {
      "cell_type": "code",
      "source": [
        "## How many results total?\n",
        "total_results = results['total']\n",
        "total_results\n"
      ],
      "metadata": {
        "colab": {
          "base_uri": "https://localhost:8080/",
          "height": 208
        },
        "id": "iWRG2aVZamWa",
        "outputId": "6cbcae41-3311-4b04-9ff9-ccd0e9d72ac9"
      },
      "execution_count": 49,
      "outputs": [
        {
          "output_type": "error",
          "ename": "NameError",
          "evalue": "name 'results' is not defined",
          "traceback": [
            "\u001b[0;31m---------------------------------------------------------------------------\u001b[0m",
            "\u001b[0;31mNameError\u001b[0m                                 Traceback (most recent call last)",
            "\u001b[0;32m<ipython-input-49-b439659be18d>\u001b[0m in \u001b[0;36m<cell line: 2>\u001b[0;34m()\u001b[0m\n\u001b[1;32m      1\u001b[0m \u001b[0;31m## How many results total?\u001b[0m\u001b[0;34m\u001b[0m\u001b[0;34m\u001b[0m\u001b[0m\n\u001b[0;32m----> 2\u001b[0;31m \u001b[0mtotal_results\u001b[0m \u001b[0;34m=\u001b[0m \u001b[0mresults\u001b[0m\u001b[0;34m[\u001b[0m\u001b[0;34m'total'\u001b[0m\u001b[0;34m]\u001b[0m\u001b[0;34m\u001b[0m\u001b[0;34m\u001b[0m\u001b[0m\n\u001b[0m\u001b[1;32m      3\u001b[0m \u001b[0mtotal_results\u001b[0m\u001b[0;34m\u001b[0m\u001b[0;34m\u001b[0m\u001b[0m\n",
            "\u001b[0;31mNameError\u001b[0m: name 'results' is not defined"
          ]
        }
      ]
    }
  ]
}