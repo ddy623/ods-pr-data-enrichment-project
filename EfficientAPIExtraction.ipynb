{
 "cells": [
  {
   "cell_type": "code",
   "execution_count": 1,
   "id": "f0c5ce7f-b399-4ded-abe5-ca7d1bf99261",
   "metadata": {},
   "outputs": [],
   "source": [
    "# Standard Imports\n",
    "import numpy as np\n",
    "import pandas as pd\n",
    "import matplotlib.pyplot as plt\n",
    "import seaborn as sns\n",
    "# Additional Imports\n",
    "import os, json, math, time\n",
    "from yelpapi import YelpAPI\n",
    "from tqdm.notebook import tqdm_notebook\n",
    "from tqdm.notebook import tqdm_notebook\n",
    "import time"
   ]
  },
  {
   "cell_type": "code",
   "execution_count": 2,
   "id": "eaaedddb-2b66-45ce-a935-9f2d06f48313",
   "metadata": {},
   "outputs": [
    {
     "name": "stdout",
     "output_type": "stream",
     "text": [
      "Requirement already satisfied: tqdm in /Users/deidrehunt/miniconda3/envs/dojo-env/lib/python3.10/site-packages (4.65.0)\n",
      "Note: you may need to restart the kernel to use updated packages.\n"
     ]
    }
   ],
   "source": [
    "pip install tqdm"
   ]
  },
  {
   "cell_type": "code",
   "execution_count": 3,
   "id": "9593a6b0-b609-4cf5-8c48-0d7cdcd87743",
   "metadata": {},
   "outputs": [
    {
     "data": {
      "text/plain": [
       "dict_keys(['client-id', 'api-key'])"
      ]
     },
     "execution_count": 3,
     "metadata": {},
     "output_type": "execute_result"
    }
   ],
   "source": [
    "# Load API Credentials\n",
    "with open('/Users/deidrehunt/.secret/yelp_api.json', 'r') as f:\n",
    "    login = json.load(f)\n",
    "\n",
    "# Instantiate YelpAPI Variable\n",
    "yelp_api = YelpAPI(login['api-key'], timeout_s=5.0)\n",
    "login.keys()\n"
   ]
  },
  {
   "cell_type": "code",
   "execution_count": 4,
   "id": "fd306e3c-e329-40bb-82ec-7748e7847aba",
   "metadata": {},
   "outputs": [],
   "source": [
    "#set our API call parameters and file name before first call\n",
    "location = 'Washington, DC 20057'\n",
    "term = 'pizza'\n"
   ]
  },
  {
   "cell_type": "code",
   "execution_count": 5,
   "id": "d86018bb-3438-4974-9e53-5be26c1a73be",
   "metadata": {},
   "outputs": [
    {
     "data": {
      "text/plain": [
       "<yelpapi.yelpapi.YelpAPI at 0x13bf75de0>"
      ]
     },
     "execution_count": 5,
     "metadata": {},
     "output_type": "execute_result"
    }
   ],
   "source": [
    "yelp_api = YelpAPI(login['api-key'], timeout_s=5.0)\n",
    "yelp_api"
   ]
  },
  {
   "cell_type": "markdown",
   "id": "9371f94e-10ab-4f32-a397-77895b7532c4",
   "metadata": {},
   "source": [
    "Pizza places in Washington, DC"
   ]
  },
  {
   "cell_type": "code",
   "execution_count": 6,
   "id": "a6c75b50-8163-4945-847f-6fa57ac59c4f",
   "metadata": {},
   "outputs": [
    {
     "data": {
      "text/plain": [
       "'Washington'"
      ]
     },
     "execution_count": 6,
     "metadata": {},
     "output_type": "execute_result"
    }
   ],
   "source": [
    "location.split(',')[0]"
   ]
  },
  {
   "cell_type": "code",
   "execution_count": 7,
   "id": "5a86e621-9b84-440d-a5cc-15a4069399c9",
   "metadata": {},
   "outputs": [],
   "source": [
    "#Specify folder for saving data\n",
    "FOLDER = 'Data/'\n",
    "os.makedirs(FOLDER, exist_ok = True)\n",
    "JSON_FILE = FOLDER+f\"{location.split(',') [0]}-{term}.json\""
   ]
  },
  {
   "cell_type": "code",
   "execution_count": 8,
   "id": "97946c4c-58ec-4446-b55f-a024e5adedd5",
   "metadata": {},
   "outputs": [
    {
     "data": {
      "text/plain": [
       "'Data/Washington-pizza.json'"
      ]
     },
     "execution_count": 8,
     "metadata": {},
     "output_type": "execute_result"
    }
   ],
   "source": [
    "JSON_FILE"
   ]
  },
  {
   "cell_type": "code",
   "execution_count": 9,
   "id": "fc6c9f32-920f-4150-a6ac-ec0bf4f48950",
   "metadata": {},
   "outputs": [
    {
     "name": "stdout",
     "output_type": "stream",
     "text": [
      "[i] Data/Washington-pizza.json already exists.\n"
     ]
    }
   ],
   "source": [
    "## Check if JSON_FILE exists\n",
    "file_exists = os.path.isfile(JSON_FILE)\n",
    "## If it does not exist: \n",
    "if file_exists == False:\n",
    "    \n",
    "    ## CREATE ANY NEEDED FOLDERS\n",
    "    # Get the Folder Name only\n",
    "    folder = os.path.dirname(JSON_FILE)\n",
    "    ## If JSON_FILE included a folder:\n",
    "    if len(folder)>0:\n",
    "        # create the folder\n",
    "        os.makedirs(folder,exist_ok=True)\n",
    "        \n",
    "        \n",
    "    ## INFORM USER AND SAVE EMPTY LIST\n",
    "    print(f'[i] {JSON_FILE} not found. Saving empty list to file.')\n",
    "    \n",
    "    \n",
    "    # save an empty list\n",
    "    with open(JSON_FILE,'w') as f:\n",
    "        json.dump([],f)  \n",
    "# If it exists, inform user\n",
    "else:\n",
    "    print(f\"[i] {JSON_FILE} already exists.\")"
   ]
  },
  {
   "cell_type": "markdown",
   "id": "de929112-2c6e-40f2-ac19-972d8afb392f",
   "metadata": {},
   "source": [
    "Making json calls"
   ]
  },
  {
   "cell_type": "code",
   "execution_count": 10,
   "id": "3dfde514-658e-4a46-8518-df92f5b61e6e",
   "metadata": {},
   "outputs": [
    {
     "name": "stdout",
     "output_type": "stream",
     "text": [
      "- 0 previous results found.\n"
     ]
    }
   ],
   "source": [
    "## Load previous results and use len of results for offset\n",
    "with open(JSON_FILE,'r') as f:\n",
    "    previous_results = json.load(f)\n",
    "    \n",
    "## set offset based on previous results\n",
    "n_results = len(previous_results)\n",
    "print(f'- {n_results} previous results found.')\n"
   ]
  },
  {
   "cell_type": "code",
   "execution_count": 11,
   "id": "92359bd4-04c7-4870-92ab-9aa7bc7374d3",
   "metadata": {},
   "outputs": [
    {
     "data": {
      "text/plain": [
       "dict_keys(['businesses', 'total', 'region'])"
      ]
     },
     "execution_count": 11,
     "metadata": {},
     "output_type": "execute_result"
    }
   ],
   "source": [
    "# use our yelp_api variable's search_query method to perform our API call\n",
    "results = yelp_api.search_query(location='Washington, DC 20057',\n",
    "                                term='pizza')\n",
    "results.keys()\n"
   ]
  },
  {
   "cell_type": "code",
   "execution_count": 12,
   "id": "a78f3c90-25e8-4a74-b85d-ce668ca6d926",
   "metadata": {},
   "outputs": [
    {
     "data": {
      "text/plain": [
       "20"
      ]
     },
     "execution_count": 12,
     "metadata": {},
     "output_type": "execute_result"
    }
   ],
   "source": [
    "## How many did we get the details for?\n",
    "results_per_page = len(results['businesses'])\n",
    "results_per_page\n"
   ]
  },
  {
   "cell_type": "code",
   "execution_count": 13,
   "id": "c30779fe-1c3f-41e4-b5ef-852b14efabf9",
   "metadata": {},
   "outputs": [
    {
     "data": {
      "text/plain": [
       "32"
      ]
     },
     "execution_count": 13,
     "metadata": {},
     "output_type": "execute_result"
    }
   ],
   "source": [
    "## How many results total?\n",
    "total_results = results['total']\n",
    "total_results\n"
   ]
  },
  {
   "cell_type": "code",
   "execution_count": 14,
   "id": "816ae3a5-ea96-450b-9bc6-12411d53937a",
   "metadata": {},
   "outputs": [
    {
     "data": {
      "text/plain": [
       "{'center': {'longitude': -77.07557201385498, 'latitude': 38.909268231541304}}"
      ]
     },
     "execution_count": 14,
     "metadata": {},
     "output_type": "execute_result"
    }
   ],
   "source": [
    "total_results = results['region']\n",
    "total_results"
   ]
  },
  {
   "cell_type": "code",
   "execution_count": 16,
   "id": "cee12188-fe3d-42ad-b495-425ee9de5b5a",
   "metadata": {},
   "outputs": [
    {
     "data": {
      "text/plain": [
       "2"
      ]
     },
     "execution_count": 16,
     "metadata": {},
     "output_type": "execute_result"
    }
   ],
   "source": [
    "# Import additional packages for controlling our loop\n",
    "import time, math\n",
    "# Use math.ceil to round up for the total number of pages of results.\n",
    "n_pages = math.ceil((results['total']-n_results)/ results_per_page)\n",
    "n_pages\n"
   ]
  },
  {
   "cell_type": "code",
   "execution_count": 21,
   "id": "f37405eb-b009-41d9-8b27-873ea941fd3f",
   "metadata": {},
   "outputs": [
    {
     "data": {
      "application/vnd.jupyter.widget-view+json": {
       "model_id": "fe996eaf6f3e4b98a5b9e2bcbc6fa072",
       "version_major": 2,
       "version_minor": 0
      },
      "text/plain": [
       "  0%|          | 0/2 [00:00<?, ?it/s]"
      ]
     },
     "metadata": {},
     "output_type": "display_data"
    }
   ],
   "source": [
    "for i in tqdm_notebook( range(1,n_pages+1)):\n",
    "    \n",
    "    ## Read in results in progress file and check the length\n",
    "    with open(JSON_FILE, 'r') as f:\n",
    "        previous_results = json.load(f)\n",
    "    ## save number of results for to use as offset\n",
    "    n_results = len(previous_results)\n",
    "    ## use n_results as the OFFSET \n",
    "    results = yelp_api.search_query(location= 'Washington, DC 20057',\n",
    "                                    term='pizza', \n",
    "                                    offset=n_results)\n",
    "    \n",
    "    ## append new results and save to file\n",
    "    previous_results.extend(results['businesses'])\n",
    "    \n",
    "    with open(JSON_FILE,'w') as f:\n",
    "        json.dump(previous_results,f)\n",
    "    \n",
    "    # add a 200ms pause\n",
    "    time.sleep(.2)\n"
   ]
  },
  {
   "cell_type": "markdown",
   "id": "85729da1-8d90-4eee-abb9-613fb40d6140",
   "metadata": {},
   "source": [
    "Open the Final JSON File with Pandas"
   ]
  },
  {
   "cell_type": "code",
   "execution_count": 22,
   "id": "5cfcacca-5f42-4687-9388-79e56be6dbfa",
   "metadata": {},
   "outputs": [],
   "source": [
    "df = pd.read_json(JSON_FILE)"
   ]
  },
  {
   "cell_type": "code",
   "execution_count": 23,
   "id": "69465653-6b34-45bc-a331-3538f5fb0ef4",
   "metadata": {},
   "outputs": [
    {
     "data": {
      "text/html": [
       "<div>\n",
       "<style scoped>\n",
       "    .dataframe tbody tr th:only-of-type {\n",
       "        vertical-align: middle;\n",
       "    }\n",
       "\n",
       "    .dataframe tbody tr th {\n",
       "        vertical-align: top;\n",
       "    }\n",
       "\n",
       "    .dataframe thead th {\n",
       "        text-align: right;\n",
       "    }\n",
       "</style>\n",
       "<table border=\"1\" class=\"dataframe\">\n",
       "  <thead>\n",
       "    <tr style=\"text-align: right;\">\n",
       "      <th></th>\n",
       "      <th>id</th>\n",
       "      <th>alias</th>\n",
       "      <th>name</th>\n",
       "      <th>image_url</th>\n",
       "      <th>is_closed</th>\n",
       "      <th>url</th>\n",
       "      <th>review_count</th>\n",
       "      <th>categories</th>\n",
       "      <th>rating</th>\n",
       "      <th>coordinates</th>\n",
       "      <th>transactions</th>\n",
       "      <th>price</th>\n",
       "      <th>location</th>\n",
       "      <th>phone</th>\n",
       "      <th>display_phone</th>\n",
       "      <th>distance</th>\n",
       "    </tr>\n",
       "  </thead>\n",
       "  <tbody>\n",
       "    <tr>\n",
       "      <th>0</th>\n",
       "      <td>ZpRRIz2PdzzDNOi9mgwkTg</td>\n",
       "      <td>pizzeria-paradiso-georgetown-washington-2</td>\n",
       "      <td>Pizzeria Paradiso Georgetown</td>\n",
       "      <td>https://s3-media2.fl.yelpcdn.com/bphoto/xhLgxG...</td>\n",
       "      <td>False</td>\n",
       "      <td>https://www.yelp.com/biz/pizzeria-paradiso-geo...</td>\n",
       "      <td>862</td>\n",
       "      <td>[{'alias': 'pizza', 'title': 'Pizza'}, {'alias...</td>\n",
       "      <td>3.5</td>\n",
       "      <td>{'latitude': 38.9049770854945, 'longitude': -7...</td>\n",
       "      <td>[delivery, pickup]</td>\n",
       "      <td>$$</td>\n",
       "      <td>{'address1': '3282 M St NW', 'address2': '', '...</td>\n",
       "      <td>+12023371245</td>\n",
       "      <td>(202) 337-1245</td>\n",
       "      <td>984.733365</td>\n",
       "    </tr>\n",
       "    <tr>\n",
       "      <th>1</th>\n",
       "      <td>3YAqTdLsvsApbJx1BvLFBg</td>\n",
       "      <td>curry-and-pie-washington</td>\n",
       "      <td>Curry &amp; Pie</td>\n",
       "      <td>https://s3-media4.fl.yelpcdn.com/bphoto/2_RPlU...</td>\n",
       "      <td>False</td>\n",
       "      <td>https://www.yelp.com/biz/curry-and-pie-washing...</td>\n",
       "      <td>456</td>\n",
       "      <td>[{'alias': 'indpak', 'title': 'Indian'}, {'ali...</td>\n",
       "      <td>4.0</td>\n",
       "      <td>{'latitude': 38.9053344726562, 'longitude': -7...</td>\n",
       "      <td>[delivery, pickup]</td>\n",
       "      <td>$$</td>\n",
       "      <td>{'address1': '1204 34th St NW', 'address2': No...</td>\n",
       "      <td>+12023334369</td>\n",
       "      <td>(202) 333-4369</td>\n",
       "      <td>787.308092</td>\n",
       "    </tr>\n",
       "    <tr>\n",
       "      <th>2</th>\n",
       "      <td>L_uhLGLeil2AvA-I9Y4vGQ</td>\n",
       "      <td>aladdin-house-of-kabob-and-gyros-washington-2</td>\n",
       "      <td>Aladdin House of Kabob &amp; Gyros</td>\n",
       "      <td>https://s3-media3.fl.yelpcdn.com/bphoto/TAK2_e...</td>\n",
       "      <td>False</td>\n",
       "      <td>https://www.yelp.com/biz/aladdin-house-of-kabo...</td>\n",
       "      <td>5</td>\n",
       "      <td>[{'alias': 'pizza', 'title': 'Pizza'}, {'alias...</td>\n",
       "      <td>5.0</td>\n",
       "      <td>{'latitude': 38.9185, 'longitude': -77.07034}</td>\n",
       "      <td>[delivery, pickup]</td>\n",
       "      <td>NaN</td>\n",
       "      <td>{'address1': '2132 Wisconsin Ave NW', 'address...</td>\n",
       "      <td>+12029443933</td>\n",
       "      <td>(202) 944-3933</td>\n",
       "      <td>1116.197120</td>\n",
       "    </tr>\n",
       "    <tr>\n",
       "      <th>3</th>\n",
       "      <td>UDxtqF8hTIhR0PzuIjd76g</td>\n",
       "      <td>paisanos-pizza-washington-4</td>\n",
       "      <td>Paisano's</td>\n",
       "      <td>https://s3-media1.fl.yelpcdn.com/bphoto/SG57H7...</td>\n",
       "      <td>False</td>\n",
       "      <td>https://www.yelp.com/biz/paisanos-pizza-washin...</td>\n",
       "      <td>59</td>\n",
       "      <td>[{'alias': 'pizza', 'title': 'Pizza'}, {'alias...</td>\n",
       "      <td>3.5</td>\n",
       "      <td>{'latitude': 38.9152897739676, 'longitude': -7...</td>\n",
       "      <td>[delivery, pickup]</td>\n",
       "      <td>$$</td>\n",
       "      <td>{'address1': '1815 Wisconsin Ave NW', 'address...</td>\n",
       "      <td>+12022986800</td>\n",
       "      <td>(202) 298-6800</td>\n",
       "      <td>982.819403</td>\n",
       "    </tr>\n",
       "    <tr>\n",
       "      <th>4</th>\n",
       "      <td>7IcB-Ozkr0Irw7wD9ZKVVw</td>\n",
       "      <td>georgetown-pizza-and-grill-washington</td>\n",
       "      <td>Georgetown pizza &amp; grill</td>\n",
       "      <td>https://s3-media2.fl.yelpcdn.com/bphoto/9Pjd69...</td>\n",
       "      <td>False</td>\n",
       "      <td>https://www.yelp.com/biz/georgetown-pizza-and-...</td>\n",
       "      <td>19</td>\n",
       "      <td>[{'alias': 'pizza', 'title': 'Pizza'}]</td>\n",
       "      <td>3.5</td>\n",
       "      <td>{'latitude': 38.90766, 'longitude': -77.06392}</td>\n",
       "      <td>[delivery, pickup]</td>\n",
       "      <td>NaN</td>\n",
       "      <td>{'address1': '3208 O St NW', 'address2': None,...</td>\n",
       "      <td>+12023330333</td>\n",
       "      <td>(202) 333-0333</td>\n",
       "      <td>1021.951367</td>\n",
       "    </tr>\n",
       "  </tbody>\n",
       "</table>\n",
       "</div>"
      ],
      "text/plain": [
       "                       id                                          alias  \\\n",
       "0  ZpRRIz2PdzzDNOi9mgwkTg      pizzeria-paradiso-georgetown-washington-2   \n",
       "1  3YAqTdLsvsApbJx1BvLFBg                       curry-and-pie-washington   \n",
       "2  L_uhLGLeil2AvA-I9Y4vGQ  aladdin-house-of-kabob-and-gyros-washington-2   \n",
       "3  UDxtqF8hTIhR0PzuIjd76g                    paisanos-pizza-washington-4   \n",
       "4  7IcB-Ozkr0Irw7wD9ZKVVw          georgetown-pizza-and-grill-washington   \n",
       "\n",
       "                             name  \\\n",
       "0    Pizzeria Paradiso Georgetown   \n",
       "1                     Curry & Pie   \n",
       "2  Aladdin House of Kabob & Gyros   \n",
       "3                       Paisano's   \n",
       "4        Georgetown pizza & grill   \n",
       "\n",
       "                                           image_url  is_closed  \\\n",
       "0  https://s3-media2.fl.yelpcdn.com/bphoto/xhLgxG...      False   \n",
       "1  https://s3-media4.fl.yelpcdn.com/bphoto/2_RPlU...      False   \n",
       "2  https://s3-media3.fl.yelpcdn.com/bphoto/TAK2_e...      False   \n",
       "3  https://s3-media1.fl.yelpcdn.com/bphoto/SG57H7...      False   \n",
       "4  https://s3-media2.fl.yelpcdn.com/bphoto/9Pjd69...      False   \n",
       "\n",
       "                                                 url  review_count  \\\n",
       "0  https://www.yelp.com/biz/pizzeria-paradiso-geo...           862   \n",
       "1  https://www.yelp.com/biz/curry-and-pie-washing...           456   \n",
       "2  https://www.yelp.com/biz/aladdin-house-of-kabo...             5   \n",
       "3  https://www.yelp.com/biz/paisanos-pizza-washin...            59   \n",
       "4  https://www.yelp.com/biz/georgetown-pizza-and-...            19   \n",
       "\n",
       "                                          categories  rating  \\\n",
       "0  [{'alias': 'pizza', 'title': 'Pizza'}, {'alias...     3.5   \n",
       "1  [{'alias': 'indpak', 'title': 'Indian'}, {'ali...     4.0   \n",
       "2  [{'alias': 'pizza', 'title': 'Pizza'}, {'alias...     5.0   \n",
       "3  [{'alias': 'pizza', 'title': 'Pizza'}, {'alias...     3.5   \n",
       "4             [{'alias': 'pizza', 'title': 'Pizza'}]     3.5   \n",
       "\n",
       "                                         coordinates        transactions  \\\n",
       "0  {'latitude': 38.9049770854945, 'longitude': -7...  [delivery, pickup]   \n",
       "1  {'latitude': 38.9053344726562, 'longitude': -7...  [delivery, pickup]   \n",
       "2      {'latitude': 38.9185, 'longitude': -77.07034}  [delivery, pickup]   \n",
       "3  {'latitude': 38.9152897739676, 'longitude': -7...  [delivery, pickup]   \n",
       "4     {'latitude': 38.90766, 'longitude': -77.06392}  [delivery, pickup]   \n",
       "\n",
       "  price                                           location         phone  \\\n",
       "0    $$  {'address1': '3282 M St NW', 'address2': '', '...  +12023371245   \n",
       "1    $$  {'address1': '1204 34th St NW', 'address2': No...  +12023334369   \n",
       "2   NaN  {'address1': '2132 Wisconsin Ave NW', 'address...  +12029443933   \n",
       "3    $$  {'address1': '1815 Wisconsin Ave NW', 'address...  +12022986800   \n",
       "4   NaN  {'address1': '3208 O St NW', 'address2': None,...  +12023330333   \n",
       "\n",
       "    display_phone     distance  \n",
       "0  (202) 337-1245   984.733365  \n",
       "1  (202) 333-4369   787.308092  \n",
       "2  (202) 944-3933  1116.197120  \n",
       "3  (202) 298-6800   982.819403  \n",
       "4  (202) 333-0333  1021.951367  "
      ]
     },
     "execution_count": 23,
     "metadata": {},
     "output_type": "execute_result"
    }
   ],
   "source": [
    "df.head()"
   ]
  },
  {
   "cell_type": "code",
   "execution_count": 24,
   "id": "9418d3dc-1d62-49c2-a5f1-5b92e50af214",
   "metadata": {},
   "outputs": [
    {
     "name": "stdout",
     "output_type": "stream",
     "text": [
      "<class 'pandas.core.frame.DataFrame'>\n",
      "RangeIndex: 32 entries, 0 to 31\n",
      "Data columns (total 16 columns):\n",
      " #   Column         Non-Null Count  Dtype  \n",
      "---  ------         --------------  -----  \n",
      " 0   id             32 non-null     object \n",
      " 1   alias          32 non-null     object \n",
      " 2   name           32 non-null     object \n",
      " 3   image_url      32 non-null     object \n",
      " 4   is_closed      32 non-null     bool   \n",
      " 5   url            32 non-null     object \n",
      " 6   review_count   32 non-null     int64  \n",
      " 7   categories     32 non-null     object \n",
      " 8   rating         32 non-null     float64\n",
      " 9   coordinates    32 non-null     object \n",
      " 10  transactions   32 non-null     object \n",
      " 11  price          28 non-null     object \n",
      " 12  location       32 non-null     object \n",
      " 13  phone          32 non-null     object \n",
      " 14  display_phone  32 non-null     object \n",
      " 15  distance       32 non-null     float64\n",
      "dtypes: bool(1), float64(2), int64(1), object(12)\n",
      "memory usage: 3.9+ KB\n"
     ]
    }
   ],
   "source": [
    "df.info()"
   ]
  },
  {
   "cell_type": "code",
   "execution_count": 26,
   "id": "961eb4ce-a964-4ffd-adaf-0a1b06db0969",
   "metadata": {},
   "outputs": [],
   "source": [
    "##convert the filename to a .csv.gz\n",
    "csv_file = JSON_FILE.replace('.json', '.csv.gz')"
   ]
  },
  {
   "cell_type": "code",
   "execution_count": null,
   "id": "28a99b96-ce6e-40d6-9bc1-c5eef10ab413",
   "metadata": {},
   "outputs": [],
   "source": []
  }
 ],
 "metadata": {
  "kernelspec": {
   "display_name": "Python (dojo-env)",
   "language": "python",
   "name": "dojo-env"
  },
  "language_info": {
   "codemirror_mode": {
    "name": "ipython",
    "version": 3
   },
   "file_extension": ".py",
   "mimetype": "text/x-python",
   "name": "python",
   "nbconvert_exporter": "python",
   "pygments_lexer": "ipython3",
   "version": "3.10.10"
  }
 },
 "nbformat": 4,
 "nbformat_minor": 5
}
