{
 "cells": [
  {
   "cell_type": "code",
   "execution_count": null,
   "id": "8b23c999-fbbd-4c46-ac28-c2db29bd2295",
   "metadata": {},
   "outputs": [],
   "source": [
    "#Standard Imports\n",
    "import numpy as np\n",
    "import pandas as pd\n",
    "import matplotlib.pyplot as plt\n",
    "import seaborn as sns\n",
    "\n",
    "#Additional Imports\n",
    "#os-saving and loading files\n",
    "#json - to work with json files\n",
    "#math -to round up results\n",
    "#time -to add a short pause to not overwhelm the server\n",
    "import os, json, math, time\n",
    "\n",
    "#to make yelpapi calls\n",
    "from yelpapi import YelpAPI\n",
    "\n",
    "#progress bar from tqdm_notebook\n",
    "from tqdm.notebook import tqdm_notebook"
   ]
  },
  {
   "cell_type": "code",
   "execution_count": null,
   "id": "41079650-0e20-4bca-8bd0-f904b8c476cd",
   "metadata": {},
   "outputs": [],
   "source": [
    "!pip install yelpapi\n",
    "!pip install tqdm"
   ]
  },
  {
   "cell_type": "code",
   "execution_count": null,
   "id": "dd286d33-91e2-4eb9-8bd2-0e1b00bbdba8",
   "metadata": {},
   "outputs": [],
   "source": [
    "#Load API Credentials\n",
    "with open('/Users/deidrehunt/.secret/yelp_api.json', 'r') as f:\n",
    "    login = json.load(f)"
   ]
  },
  {
   "cell_type": "code",
   "execution_count": null,
   "id": "34da5db6-39b8-49c2-bac1-5d928ee84bf5",
   "metadata": {},
   "outputs": [],
   "source": [
    "#login.items()\n",
    "#login['API Key']"
   ]
  },
  {
   "cell_type": "code",
   "execution_count": null,
   "id": "1abc213f-ff28-4d90-bbf8-6bafe882fd48",
   "metadata": {},
   "outputs": [],
   "source": [
    "# Instantiate YelpAPI Variable\n",
    "yelp_api = YelpAPI(login['api-key'], timeout_s=5.0)"
   ]
  },
  {
   "cell_type": "code",
   "execution_count": null,
   "id": "d5960437-2fe2-479f-8731-9378e5bd395c",
   "metadata": {},
   "outputs": [],
   "source": [
    "#Define Search Terms and File Paths"
   ]
  },
  {
   "cell_type": "code",
   "execution_count": null,
   "id": "664aba5a-6ff7-4827-8534-26f5df8e5aa3",
   "metadata": {},
   "outputs": [],
   "source": [
    "# set out API call parameters and filename before the first call\n",
    "location = 'District of Columbia'\n",
    "term = 'pizza'"
   ]
  },
  {
   "cell_type": "code",
   "execution_count": null,
   "id": "20e73bca-d492-4ff8-b7b6-22f9fc945e02",
   "metadata": {},
   "outputs": [],
   "source": [
    "location.split(',')[0]"
   ]
  },
  {
   "cell_type": "code",
   "execution_count": null,
   "id": "109b376e-0c70-4f84-b5b9-ce3d3105b791",
   "metadata": {},
   "outputs": [],
   "source": [
    "##Specify folder for saving dta\n",
    "FOLDER = 'Data/'\n",
    "\n",
    "os.makedirs(FOLDER, exist_ok = True)\n",
    "# Specifying JSON_FILE filename\n",
    "JSON_FILE = FOLDER+f\"{location.split(',')[0]}-{term}.json\""
   ]
  },
  {
   "cell_type": "code",
   "execution_count": null,
   "id": "26393642-84ae-4e57-8349-e91bb4ccb575",
   "metadata": {},
   "outputs": [],
   "source": [
    "JSON_FILE"
   ]
  },
  {
   "cell_type": "code",
   "execution_count": null,
   "id": "9c991345-472e-4732-b689-eb4560ead5b0",
   "metadata": {},
   "outputs": [],
   "source": [
    "# use our yelp_api variable's search_query method to perform our API call\n",
    "results = yelp_api.search_query(location = 'District of Columbia,\n",
    "                                term='pizza',\n",
    "                               offset=20)\n",
    "results.keys()\n"
   ]
  },
  {
   "cell_type": "code",
   "execution_count": null,
   "id": "ddb6e102-96a3-4ade-add4-05863e1784b3",
   "metadata": {},
   "outputs": [],
   "source": [
    "## Check if JSON_FILE exists\n",
    "file_exists = os.path.isfile(JSON_FILE)\n",
    "## If it does not exist: \n",
    "if file_exists == False:\n",
    "    \n",
    "    ## CREATE ANY NEEDED FOLDERS\n",
    "    # Get the Folder Name only\n",
    "    folder = os.path.dirname(JSON_FILE)\n",
    "    ## If JSON_FILE included a folder:\n",
    "    if len(folder)>0:\n",
    "        # create the folder\n",
    "        os.makedirs(folder,exist_ok=True)\n",
    "        \n",
    "        \n",
    "    ## INFORM USER AND SAVE EMPTY LIST\n",
    "    print(f'[i] {JSON_FILE} not found. Saving empty list to file.')\n",
    "    \n",
    "    \n",
    "    # save an empty list\n",
    "    with open(JSON_FILE,'w') as f:\n",
    "        json.dump([],f)  \n",
    "# If it exists, inform user\n",
    "else:\n",
    "    print(f\"[i] {JSON_FILE} already exists.\")"
   ]
  },
  {
   "cell_type": "code",
   "execution_count": null,
   "id": "0854dcad-78a4-4820-9e4b-271b8e7c7f07",
   "metadata": {},
   "outputs": [],
   "source": [
    "## How many results total?\n",
    "total_results = results['total']\n",
    "total_results\n",
    "\n"
   ]
  },
  {
   "cell_type": "code",
   "execution_count": null,
   "id": "86b77bcb-4ee9-4c2a-9bc3-813b7526a7e8",
   "metadata": {},
   "outputs": [],
   "source": [
    "# Import additional packages for controlling our loop\n",
    "import time, math\n",
    "# Use math.ceil to round up for the total number of pages of results.\n",
    "n_pages = math.ceil((results['total']-n_results)/ results_per_page)\n",
    "n_pages\n"
   ]
  },
  {
   "cell_type": "code",
   "execution_count": null,
   "id": "2a00e14b-5683-46fe-8333-77a882ed1d12",
   "metadata": {},
   "outputs": [],
   "source": [
    "# join new results with old list with extend and save to file\n",
    "previous_results.extend(results['businesses'])  \n",
    "with open(JSON_FILE,'w') as f:\n",
    "     json.dump(previous_results,f)"
   ]
  },
  {
   "cell_type": "code",
   "execution_count": null,
   "id": "105d009e-f378-4c05-89a9-e44d2fad2252",
   "metadata": {},
   "outputs": [],
   "source": [
    "for i in tqdm_notebook( range(1,n_pages+1)):\n",
    "    \n",
    "    ## Read in results in progress file and check the length\n",
    "    with open(JSON_FILE, 'r') as f:\n",
    "        previous_results = json.load(f)\n",
    "    ## save number of results for to use as offset\n",
    "    n_results = len(previous_results)\n",
    "    ## use n_results as the OFFSET \n",
    "    results = yelp_api.search_query(location=LOCATION,\n",
    "                                    term=TERM, \n",
    "                                    offset=n_results)\n",
    "    \n",
    "    ## append new results and save to file\n",
    "    previous_results.extend(results['businesses'])\n",
    "    \n",
    "    with open(JSON_FILE,'w') as f:\n",
    "        json.dump(previous_results,f)\n",
    "    \n",
    "    # add a 200ms pause\n",
    "    time.sleep(.2)\n"
   ]
  }
 ],
 "metadata": {
  "kernelspec": {
   "display_name": "Python (dojo-env)",
   "language": "python",
   "name": "dojo-env"
  },
  "language_info": {
   "codemirror_mode": {
    "name": "ipython",
    "version": 3
   },
   "file_extension": ".py",
   "mimetype": "text/x-python",
   "name": "python",
   "nbconvert_exporter": "python",
   "pygments_lexer": "ipython3",
   "version": "3.10.10"
  }
 },
 "nbformat": 4,
 "nbformat_minor": 5
}
