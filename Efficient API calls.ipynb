{
 "cells": [
  {
   "cell_type": "code",
   "execution_count": 1,
   "id": "8b23c999-fbbd-4c46-ac28-c2db29bd2295",
   "metadata": {},
   "outputs": [],
   "source": [
    "#Standard Imports\n",
    "import numpy as np\n",
    "import pandas as pd\n",
    "import matplotlib.pyplot as plt\n",
    "import seaborn as sns\n",
    "\n",
    "#Additional Imports\n",
    "#os-saving and loading files\n",
    "#json - to work with json files\n",
    "#math -to round up results\n",
    "#time -to add a short pause to not overwhelm the server\n",
    "import os, json, math, time\n",
    "\n",
    "#to make yelpapi calls\n",
    "from yelpapi import YelpAPI\n",
    "\n",
    "#progress bar from tqdm_notebook\n",
    "from tqdm.notebook import tqdm_notebook"
   ]
  },
  {
   "cell_type": "code",
   "execution_count": 2,
   "id": "41079650-0e20-4bca-8bd0-f904b8c476cd",
   "metadata": {},
   "outputs": [
    {
     "name": "stdout",
     "output_type": "stream",
     "text": [
      "Requirement already satisfied: yelpapi in /Users/deidrehunt/miniconda3/envs/dojo-env/lib/python3.10/site-packages (2.5.1)\n",
      "Requirement already satisfied: requests in /Users/deidrehunt/miniconda3/envs/dojo-env/lib/python3.10/site-packages (from yelpapi) (2.29.0)\n",
      "Requirement already satisfied: urllib3<1.27,>=1.21.1 in /Users/deidrehunt/miniconda3/envs/dojo-env/lib/python3.10/site-packages (from requests->yelpapi) (1.26.15)\n",
      "Requirement already satisfied: charset-normalizer<4,>=2 in /Users/deidrehunt/miniconda3/envs/dojo-env/lib/python3.10/site-packages (from requests->yelpapi) (2.0.4)\n",
      "Requirement already satisfied: idna<4,>=2.5 in /Users/deidrehunt/miniconda3/envs/dojo-env/lib/python3.10/site-packages (from requests->yelpapi) (3.4)\n",
      "Requirement already satisfied: certifi>=2017.4.17 in /Users/deidrehunt/miniconda3/envs/dojo-env/lib/python3.10/site-packages (from requests->yelpapi) (2023.5.7)\n",
      "Requirement already satisfied: tqdm in /Users/deidrehunt/miniconda3/envs/dojo-env/lib/python3.10/site-packages (4.65.0)\n"
     ]
    }
   ],
   "source": [
    "!pip install yelpapi\n",
    "!pip install tqdm"
   ]
  },
  {
   "cell_type": "code",
   "execution_count": 3,
   "id": "dd286d33-91e2-4eb9-8bd2-0e1b00bbdba8",
   "metadata": {},
   "outputs": [],
   "source": [
    "#Load API Credentials\n",
    "with open('/Users/deidrehunt/.secret/yelp_api.json', 'r') as f:\n",
    "    login = json.load(f)"
   ]
  },
  {
   "cell_type": "code",
   "execution_count": 4,
   "id": "34da5db6-39b8-49c2-bac1-5d928ee84bf5",
   "metadata": {},
   "outputs": [],
   "source": [
    "#login.items()\n",
    "#login['API Key']"
   ]
  },
  {
   "cell_type": "code",
   "execution_count": 5,
   "id": "1abc213f-ff28-4d90-bbf8-6bafe882fd48",
   "metadata": {},
   "outputs": [
    {
     "ename": "KeyError",
     "evalue": "'API Key'",
     "output_type": "error",
     "traceback": [
      "\u001b[0;31m---------------------------------------------------------------------------\u001b[0m",
      "\u001b[0;31mKeyError\u001b[0m                                  Traceback (most recent call last)",
      "Cell \u001b[0;32mIn[5], line 2\u001b[0m\n\u001b[1;32m      1\u001b[0m \u001b[38;5;66;03m#Instantiate YelpAPI variable\u001b[39;00m\n\u001b[0;32m----> 2\u001b[0m yelp \u001b[38;5;241m=\u001b[39m YelpAPI(\u001b[43mlogin\u001b[49m\u001b[43m[\u001b[49m\u001b[38;5;124;43m'\u001b[39;49m\u001b[38;5;124;43mAPI Key\u001b[39;49m\u001b[38;5;124;43m'\u001b[39;49m\u001b[43m]\u001b[49m, timeout_s \u001b[38;5;241m=\u001b[39m \u001b[38;5;241m5.0\u001b[39m)\n",
      "\u001b[0;31mKeyError\u001b[0m: 'API Key'"
     ]
    }
   ],
   "source": [
    "#Instantiate YelpAPI variable\n",
    "yelp = YelpAPI(login['API Key'], timeout_s = 5.0)"
   ]
  },
  {
   "cell_type": "code",
   "execution_count": null,
   "id": "d5960437-2fe2-479f-8731-9378e5bd395c",
   "metadata": {},
   "outputs": [],
   "source": [
    "#Define Search Terms and File Paths"
   ]
  },
  {
   "cell_type": "code",
   "execution_count": null,
   "id": "664aba5a-6ff7-4827-8534-26f5df8e5aa3",
   "metadata": {},
   "outputs": [],
   "source": [
    "# set out API call parameters and filename before the first call\n",
    "location = 'District of Columbia'\n",
    "term = 'pizza'"
   ]
  },
  {
   "cell_type": "code",
   "execution_count": null,
   "id": "20e73bca-d492-4ff8-b7b6-22f9fc945e02",
   "metadata": {},
   "outputs": [],
   "source": [
    "location.split(',')[0]"
   ]
  },
  {
   "cell_type": "code",
   "execution_count": null,
   "id": "109b376e-0c70-4f84-b5b9-ce3d3105b791",
   "metadata": {},
   "outputs": [],
   "source": [
    "##Specify folder for saving dta\n",
    "FOLDER = 'Data/'\n",
    "\n",
    "os.makedirs(FOLDER, exist_ok = True)\n",
    "# Specifiying JSON_FILE filename\n",
    "JSON_FILE = FOLDER+f\"{location.split(',')[0]}-{term}.json\""
   ]
  },
  {
   "cell_type": "code",
   "execution_count": null,
   "id": "26393642-84ae-4e57-8349-e91bb4ccb575",
   "metadata": {},
   "outputs": [],
   "source": [
    "JSON_FILE"
   ]
  },
  {
   "cell_type": "code",
   "execution_count": null,
   "id": "425bbd58-68f5-4542-a700-953ece78a05a",
   "metadata": {},
   "outputs": [],
   "source": []
  }
 ],
 "metadata": {
  "kernelspec": {
   "display_name": "Python (dojo-env)",
   "language": "python",
   "name": "dojo-env"
  },
  "language_info": {
   "codemirror_mode": {
    "name": "ipython",
    "version": 3
   },
   "file_extension": ".py",
   "mimetype": "text/x-python",
   "name": "python",
   "nbconvert_exporter": "python",
   "pygments_lexer": "ipython3",
   "version": "3.10.10"
  }
 },
 "nbformat": 4,
 "nbformat_minor": 5
}
